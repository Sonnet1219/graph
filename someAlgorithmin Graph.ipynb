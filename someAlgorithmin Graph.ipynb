{
 "cells": [
  {
   "cell_type": "code",
   "execution_count": 25,
   "metadata": {},
   "outputs": [
    {
     "name": "stdout",
     "output_type": "stream",
     "text": [
      "0 4\n",
      "[1, 0, -1, -1, 0, -1]\n"
     ]
    }
   ],
   "source": [
    "# 图的深度优先搜索 判断两点之间是否有路径 \n",
    "graph = [[1, 4, 5], [0, 2], [1, 3, 4], [2, 4, 5], [0, 2, 3, 5], [0, 3, 4]]\n",
    "\n",
    "def hasPath_dfs(graph, src, dest, visited):\n",
    "    if src == dest:\n",
    "        return True\n",
    "    # visited[src] = src\n",
    "    for n in graph[src]:\n",
    "        if visited[n] == -1:\n",
    "            visited[n] = src\n",
    "            flag = hasPath_dfs(graph, n, dest, visited)\n",
    "            if flag: return True\n",
    "    return False\n",
    "\n",
    "from random import randrange\n",
    "visited = [-1] * 6\n",
    "#hasPath_dfs(graph, 0, 5, visited)\n",
    "src = randrange(0, 6)\n",
    "dest = randrange(0, 6)\n",
    "print(src, dest)\n",
    "hasPath_dfs(graph, src, dest, visited)\n",
    "print(visited)"
   ]
  },
  {
   "cell_type": "code",
   "execution_count": null,
   "metadata": {},
   "outputs": [
    {
     "name": "stdout",
     "output_type": "stream",
     "text": [
      "[False, False, False, False, False, False]\n"
     ]
    },
    {
     "data": {
      "text/plain": [
       "[[0, 1, 2, 3, 4, 5],\n",
       " [0, 1, 2, 3, 5],\n",
       " [0, 1, 2, 4, 3, 5],\n",
       " [0, 1, 2, 4, 5],\n",
       " [0, 4, 2, 3, 5],\n",
       " [0, 4, 3, 5],\n",
       " [0, 4, 5],\n",
       " [0, 5]]"
      ]
     },
     "execution_count": 19,
     "metadata": {},
     "output_type": "execute_result"
    }
   ],
   "source": [
    "# 枚举所有路径\n",
    "graph = [[1, 4, 5], [0, 2], [1, 3, 4], [2, 4, 5], [0, 2, 3, 5], [0, 3, 4]]\n",
    "\n",
    "ans = []\n",
    "path = [0]\n",
    "# 不论怎么样 都会有0在路径中 (一定存在路径)\n",
    "def path_dfs(graph, src, dest, visited):\n",
    "    if src == dest:\n",
    "        ans.append(path[:])\n",
    "        return\n",
    "    visited[src] = True\n",
    "    for nxt in graph[src]:\n",
    "        if visited[nxt] is False:\n",
    "            path.append(nxt)\n",
    "            path_dfs(graph, nxt, dest, visited)\n",
    "            path.pop()\n",
    "    visited[src] = False\n",
    "    \n",
    "visited = [False] * 6\n",
    "visited[0] = True\n",
    "path_dfs(graph, 0, 5, visited)\n",
    "print(visited)\n",
    "ans"
   ]
  },
  {
   "cell_type": "code",
   "execution_count": null,
   "metadata": {},
   "outputs": [
    {
     "data": {
      "text/plain": [
       "False"
      ]
     },
     "execution_count": 24,
     "metadata": {},
     "output_type": "execute_result"
    }
   ],
   "source": [
    "# Stack 实现判断两点之间是否存在路径\n",
    "\n",
    "graph1 = [[1, 4, 5], [0, 2], [1, 3, 4], [2, 4, 5], [0, 2, 3, 5], [0, 3, 4]]\n",
    "graph2 = [[1], [0, 3], [], [1]]\n",
    "def hasPath_Stack(graph, src, dest, visited):\n",
    "    s = [src]\n",
    "    visited[src] = True  # 标记起始节点为已访问\n",
    "    while s:\n",
    "        cur_node = s.pop()\n",
    "        if cur_node is dest:\n",
    "            return True\n",
    "        for nxt in graph[cur_node]:\n",
    "            if visited[nxt] == False:\n",
    "            # 判断有没有被使用过\n",
    "                visited[nxt] = True\n",
    "                s.append(nxt) \n",
    "    return False\n",
    "\n",
    "visited = [False] * 6\n",
    "hasPath_Stack(graph2, 0, 2, visited)\n"
   ]
  },
  {
   "cell_type": "code",
   "execution_count": 23,
   "metadata": {},
   "outputs": [
    {
     "data": {
      "text/plain": [
       "[1, 0, 1, 4, 0, 0]"
      ]
     },
     "execution_count": 23,
     "metadata": {},
     "output_type": "execute_result"
    }
   ],
   "source": [
    "# bfs 求图两点之间的最短路径\n",
    "from collections import deque\n",
    "\n",
    "def findPathBfs(graph, src, dest, visited):\n",
    "    q = deque([src])\n",
    "    while q:\n",
    "        cur_vertex = q.popleft()\n",
    "        if cur_vertex == dest: return True\n",
    "        for e in graph[cur_vertex]:\n",
    "            if visited[e] == -1:\n",
    "                q.append(e)\n",
    "                visited[e] = cur_vertex\n",
    "    return False\n",
    "\n",
    "graph1 = [[1, 4, 5], [0, 2], [1, 3, 4], [2, 4, 5], [0, 2, 3, 5], [0, 3, 4]]\n",
    "visited = [-1] * 6\n",
    "findPathBfs(graph, 0, 3, visited)\n",
    "visited\n",
    "\n"
   ]
  },
  {
   "cell_type": "code",
   "execution_count": null,
   "metadata": {},
   "outputs": [],
   "source": [
    "# choose any vertex v∈G\n",
    "def hasCircle(graph, vertex, parent, visited):\n",
    "    # 终止条件是一个节点的邻居被访问过 且不是通过该节点访问的\n",
    "    visited[vertex] = True\n",
    "    for nxt in graph[vertex]:\n",
    "        if visited[nxt] is False:\n",
    "            if hasCircle(graph, nxt, vertex, visited):\n",
    "                return True\n",
    "        elif visited[nxt] is True and nxt != parent:\n",
    "            return True\n",
    "    return False"
   ]
  },
  {
   "cell_type": "code",
   "execution_count": null,
   "metadata": {},
   "outputs": [],
   "source": [
    "components = [-1] * len(graph)\n",
    "# -1 表示还没有打上记号\n",
    "def dfsComponents(graph, vertex, id):\n",
    "    # 把所有连通的区域都打上记号\n",
    "    components[vertex] = id\n",
    "    for next in graph[vertex]:\n",
    "        if components[next] == -1:\n",
    "            dfsComponents(graph, next, id)\n",
    "\n",
    "# for all vertices v∈G do\n",
    "# |  |  if componentOf[v]=-1 then\n",
    "# |  |     dfsComponents(G,v,compID)\n",
    "# |  |     compID=compID+1\n",
    "# |  |  end if\n",
    "# |  end for"
   ]
  },
  {
   "cell_type": "code",
   "execution_count": 28,
   "metadata": {},
   "outputs": [],
   "source": [
    "visited = [False] * len(graph)\n",
    "def HamiltonianPath(graph, src, dest, d):\n",
    "    if src == dest and d == 0:\n",
    "        return True\n",
    "    elif src == dest and d != 0:\n",
    "        return False\n",
    "    visited[src] = True\n",
    "    for neighbour in graph[src]:\n",
    "        if visited[neighbour] is False:\n",
    "            if HamiltonianPath(graph, neighbour, dest, d-1):\n",
    "                return True\n",
    "    visited[src] = False\n",
    "    return False\n",
    "        \n"
   ]
  },
  {
   "cell_type": "code",
   "execution_count": null,
   "metadata": {},
   "outputs": [],
   "source": []
  }
 ],
 "metadata": {
  "kernelspec": {
   "display_name": "base",
   "language": "python",
   "name": "python3"
  },
  "language_info": {
   "codemirror_mode": {
    "name": "ipython",
    "version": 3
   },
   "file_extension": ".py",
   "mimetype": "text/x-python",
   "name": "python",
   "nbconvert_exporter": "python",
   "pygments_lexer": "ipython3",
   "version": "3.12.7"
  }
 },
 "nbformat": 4,
 "nbformat_minor": 2
}
